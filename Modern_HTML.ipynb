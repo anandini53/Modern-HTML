{
  "nbformat": 4,
  "nbformat_minor": 0,
  "metadata": {
    "colab": {
      "provenance": []
    },
    "kernelspec": {
      "name": "python3",
      "display_name": "Python 3"
    },
    "language_info": {
      "name": "python"
    }
  },
  "cells": [
    {
      "cell_type": "markdown",
      "source": [
        "# Modern HTML\n",
        "\n"
      ],
      "metadata": {
        "id": "i9RkXWMxpC4T"
      }
    },
    {
      "cell_type": "markdown",
      "source": [
        "1. List out the features of HTML5.\n",
        "    - The features of HTML5 are:\n",
        "    <ol type=\"i\">\n",
        "    <li> Introduction of new elements, attributes and behaviors, support for multimedia, better error handling.\n",
        "\n",
        "    <li> New tags like &lt;article&gt; , &lt;aside&gt; , &lt;figure&gt; are added.\n",
        "    <li> Enhanced forms with new input types.\n",
        "    <li> Build-in audio and video support with &lt;audio&gt; and &lt;video&gt; .\n",
        "    <li> Local storage for offline use.\n",
        "    <li> Graphics and animations with &lt;canva&gt; and &lt;svg&gt;.\n",
        "\n",
        "    </ul>"
      ],
      "metadata": {
        "id": "pEJ8REdMpZQ5"
      }
    },
    {
      "cell_type": "markdown",
      "source": [
        "2. What are HTML Entities? List out 5 commonly used HTML entities.\n",
        "      - HTML Entities are special codes to display reserved characters. It helps to display symbols that have special meanings in HTML. It is also used to display special characters.<br>\n",
        "      HTML entities ensures characters are rendered correctly and prevent HTML code from breaking.<br>\n",
        "      Some commonly used HTML Entities are: <br>\n",
        "      &lt - less than <br>\n",
        "      &nbsp - for non-breaking space <br>\n",
        "      &gt - for greater than <br>\n",
        "      &quot - for double quotation mark <br>\n",
        "      &amp - for ampersand.\n",
        "      "
      ],
      "metadata": {
        "id": "pxU_NgAft_4X"
      }
    },
    {
      "cell_type": "markdown",
      "source": [
        "3. Define accessibility in the context of web development. Discuss why it's essential to create accessible websites and how it benefits different user groups.\n",
        "    - In web development, accessibility refers creating websites or web content that are usable by everyone includes peoples with disabilities. <br>\n",
        "    Why Accessibility is essential: <br>\n",
        "    <ul>\n",
        "    <li> Inclusivity and Social Responsibility: Ensures people with disabilities can access digital information and services equally.\n",
        "    <li> Legal Compliance: Many countries have laws like ADA, WCAG, etc. requiring digital accessibility.\n",
        "    <li> Improve Usability: Enhancements for accessibility often improve the experience for all users.\n",
        "    <li> SEO Benefits: Many accessibility practices improve search engine rankings.\n",
        "    </ul>\n",
        "\n",
        "    Benefits for Different User Groups: <br>\n",
        "    <ul>\n",
        "    <li> Mobile Users: Responsive and accessible design benefits users on small screens or with limited functionality.\n",
        "\n",
        "    <li> People with Visual Impairments: Screen readers, text alternatives for images, and keyboard navigation help users who are blind or low vision.\n",
        "\n",
        "    <li> People with Hearing Impairment: Captions and transcripts for audio/video content make information accessible.\n",
        "    \n",
        "    <li> People with Cognitive Disabilities: Clear layouts, simple language, and consistent navigation aid comprehensions.\n",
        "    \n",
        "    </ul>"
      ],
      "metadata": {
        "id": "Q8EMnGkoznM1"
      }
    },
    {
      "cell_type": "markdown",
      "source": [
        "4.  List any 3 ways which help us in improving the accessibility of HTML.\n",
        "    - Here are the ways to improve the accessibility of HTML:\n",
        "    <ol type=\"i\">\n",
        "    <li> Use Semantic HTML Tags<br>\n",
        "            Employing HTML5 elements like &lt;article&gt; , &lt;nav&gt; , &lt;main&gt; , &lt;footer&gt;  &lt;button&gt; so on help screen reader and other assistive technologies understand the structure and context of the content, making it easier for user to navigate and understand the page.\n",
        "    <li> Add Alternative Text (Alt Text) for Images <br>\n",
        "            Provide descriptive alt text for all images, especially decorative ones, so that screen can convey the image's purpose to users who cannot see it.\n",
        "    <li> Ensure Keyboard Navigability <br>\n",
        "        Ensure that all interactive elements, like links and buttons, are accessible through the keyboard and that the focus state is clearly visible.   \n",
        "    \n",
        "    \n",
        "    \n",
        "    \n",
        "    "
      ],
      "metadata": {
        "id": "zFSQMOMDGsCC"
      }
    },
    {
      "cell_type": "markdown",
      "source": [],
      "metadata": {
        "id": "2V8vJ9CzM13E"
      }
    },
    {
      "cell_type": "markdown",
      "source": [
        "5. Create a web page that highlights the features of HTML5. Use appropriate semantic tags to structure the content and showcase at least three key features of HTML5 with explanations.\n",
        "    - A complete HTML5 web pages that highlights the features of HTML5:"
      ],
      "metadata": {
        "id": "oLkY9-Y1P7vd"
      }
    },
    {
      "cell_type": "code",
      "execution_count": 6,
      "metadata": {
        "id": "wNRmoXWJoFXi",
        "colab": {
          "base_uri": "https://localhost:8080/",
          "height": 106
        },
        "outputId": "6d669acb-ccdc-470d-9ac2-ccb85bb71513"
      },
      "outputs": [
        {
          "output_type": "error",
          "ename": "IndentationError",
          "evalue": "unindent does not match any outer indentation level (<tokenize>, line 70)",
          "traceback": [
            "\u001b[0;36m  File \u001b[0;32m\"<tokenize>\"\u001b[0;36m, line \u001b[0;32m70\u001b[0m\n\u001b[0;31m    <video controls width=\"320\">\u001b[0m\n\u001b[0m    ^\u001b[0m\n\u001b[0;31mIndentationError\u001b[0m\u001b[0;31m:\u001b[0m unindent does not match any outer indentation level\n"
          ]
        }
      ],
      "source": [
        "<!DOCTYPE html>\n",
        "<html lang=\"en\">\n",
        "<head>\n",
        "  <meta charset=\"UTF-8\">\n",
        "  <meta name=\"viewport\" content=\"width=device-width, initial-scale=1\">\n",
        "  <title>HTML5 Features</title>\n",
        "  <style>\n",
        "\n",
        "\n",
        "    body\n",
        "    {\n",
        "      font-family: Cambria, Cochin, Georgia, Times, 'Times New Roman', serif, sans-serif;\n",
        "      line-height: 1.6;\n",
        "      margin: 0;\n",
        "      padding: 0;\n",
        "      background: #f9f9f9;\n",
        "      color: #333;\n",
        "    }\n",
        "\n",
        "    header, footer\n",
        "    {\n",
        "      background: #20021b;\n",
        "      color: #ffffff;\n",
        "      padding: 1rem;\n",
        "      text-align: center;\n",
        "    }\n",
        "\n",
        "    main\n",
        "    {\n",
        "      padding: 2rem;\n",
        "      max-width: 800px;\n",
        "      margin: auto;\n",
        "    }\n",
        "\n",
        "    section\n",
        "    {\n",
        "      margin-bottom: 2rem;\n",
        "    }\n",
        "\n",
        "    h1, h2\n",
        "    {\n",
        "      color: #492c50;\n",
        "    }\n",
        "\n",
        "  </style>\n",
        "</head>\n",
        "\n",
        "\n",
        "<body>\n",
        "\n",
        "  <header>\n",
        "    <h1>Discover HTML5</h1>\n",
        "    <p>Modern Features for the Modern Web</p>\n",
        "  </header>\n",
        "\n",
        "  <main>\n",
        "\n",
        "    <section>\n",
        "      <h2>1. Semantic Elements</h2>\n",
        "      <p>HTML5 introduces new semantic elements like <code>&lt;header&gt;</code>, <code>&lt;footer&gt;</code>, <code>&lt;article&gt;</code>, and <code>&lt;section&gt;</code> that provide clearer meaning to the structure of a web page. This enhances accessibility and improves SEO.</p>\n",
        "    </section>\n",
        "\n",
        "    <section>\n",
        "\n",
        "        <h2>2. Audio and Video Support</h2>\n",
        "            <p>\n",
        "              HTML5 provides native support for audio and video playback through the <code>&lt;audio&gt;</code> and <code>&lt;video&gt;</code> elements. This eliminates the need for third-party plugins like Flash.\n",
        "            </p>\n",
        "\n",
        "      <video controls width=\"320\">\n",
        "\n",
        "        <source src=\"sample-video.mp4\" type=\"video/mp4\">\n",
        "\n",
        "      </video>\n",
        "    </section>\n",
        "\n",
        "    <section>\n",
        "      <h2>3. Canvas API</h2>\n",
        "        <p>\n",
        "            The <code>&lt;canvas&gt;</code> element allows for dynamic, scriptable rendering of 2D graphics and animations directly in the browser. It's widely used for games, data visualizations, and drawing applications.\n",
        "        </p>\n",
        "\n",
        "      <canvas id=\"demoCanvas\" width=\"300\" height=\"100\" style=\"border:1px solid #ccc;\"></canvas>\n",
        "\n",
        "      <script>\n",
        "        const canvas = document.getElementById('demoCanvas');\n",
        "        const ctx = canvas.getContext('2d');\n",
        "        ctx.fillStyle = '#3498db';\n",
        "        ctx.fillRect(10, 10, 150, 75);\n",
        "      </script>\n",
        "\n",
        "    </section>\n",
        "\n",
        "  </main>\n",
        "\n",
        "  <footer>\n",
        "\n",
        "    <p>&copy; 2025 HTML5 Features Demo</p>\n",
        "\n",
        "  </footer>\n",
        "\n",
        "</body>\n",
        "</html>\n",
        "\n",
        "\n",
        "\n",
        "\n"
      ]
    },
    {
      "cell_type": "markdown",
      "source": [
        "5. Create a simple web page which has a table. The table must have 2 columns HTML and HTML5. The table should include a minimum of three rows describing the differences between HTML and HTML5."
      ],
      "metadata": {
        "id": "6aMK96JWKi5m"
      }
    },
    {
      "cell_type": "code",
      "source": [
        "<!DOCTYPE html>\n",
        "<html lang=\"en\">\n",
        "<head>\n",
        "    <meta charset=\"UTF-8\">\n",
        "    <meta name=\"viewport\" content=\"width=device-width, initial-scale=1.0\">\n",
        "    <title>Difference between HTML and HTML5</title>\n",
        "</head>\n",
        "<body>\n",
        "\n",
        "    <h1 align=\"center\"> Difference between HTML and HTML5</h1>\n",
        "\n",
        "    <table border=\"1\" cellpadding=\"10\">\n",
        "\n",
        "        <th> HTML </th>\n",
        "        <th> HTML5</th>\n",
        "\n",
        "        <tr>\n",
        "            <ul>\n",
        "                <td> <li>HTML didn't support audio and video without the use of flash player support.</li></td>\n",
        "                <td> <li> It supports audio and video controls with the use of &lt;audio&gt; and &lt;video&gt;.</li></td>\n",
        "            </ul>\n",
        "        </tr>\n",
        "\n",
        "        <tr>\n",
        "            <ul>\n",
        "                <td> <li> It uses cookies to store temporary data.</li></td>\n",
        "                <td> <li> It uses SQL databases and application cache to o0ffline data.</li></td>\n",
        "            </ul>\n",
        "        </tr>\n",
        "\n",
        "        <tr>\n",
        "            <ul>\n",
        "                <td> <li> It doesn't allow JavaScript to run in the browser. </li></td>\n",
        "                <td> <li> Allows JavaScript to run in the background. This is possible due to JS Web worker API in HTML5. </li></td>\n",
        "            </ul>\n",
        "        </tr>\n",
        "\n",
        "        <tr>\n",
        "            <ul>\n",
        "                <td> <li> Vector graphics are pssible in HTML with the help of various technologies such as VML, Silver-light, Flash, etc. </li></td>\n",
        "                <td> <li> Vector graphics are additionally an integral part of HTML5 like SVG and Canvas. </li></td>\n",
        "            </ul>\n",
        "        </tr>\n",
        "    </table>\n",
        "</body>\n",
        "</html>"
      ],
      "metadata": {
        "id": "m5LTQJQoRjIL"
      },
      "execution_count": null,
      "outputs": []
    }
  ]
}